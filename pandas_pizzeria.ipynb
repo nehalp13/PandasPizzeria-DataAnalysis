{
 "cells": [
  {
   "cell_type": "code",
   "execution_count": 1,
   "metadata": {},
   "outputs": [],
   "source": [
    "import os\n",
    "import pandas as pd"
   ]
  },
  {
   "cell_type": "markdown",
   "metadata": {},
   "source": [
    "## Retrieving the Data"
   ]
  },
  {
   "cell_type": "markdown",
   "metadata": {},
   "source": [
    "### Task 1: Load the Data from the CSV Files"
   ]
  },
  {
   "cell_type": "markdown",
   "metadata": {},
   "source": [
    "The initial task is to take the 4 csv files you have been given and turn them into pandas dataframes. A quick note - these files aren't encoded in UTF-8 so when you're reading them into dataframes be sure to use the argument `encoding = 'latin-1'`."
   ]
  },
  {
   "cell_type": "markdown",
   "metadata": {},
   "source": [
    "Hint\n",
    "\n",
    "<details>\n",
    "\n",
    "`.read_csv()` is a handy function."
   ]
  },
  {
   "cell_type": "code",
   "execution_count": null,
   "metadata": {
    "editable": true,
    "nbgrader": {
     "grade": false,
     "grade_id": "1-1",
     "locked": false,
     "schema_version": 3,
     "solution": true,
     "task": false
    },
    "slideshow": {
     "slide_type": ""
    },
    "tags": []
   },
   "outputs": [
    {
     "name": "stdout",
     "output_type": "stream",
     "text": [
      "   order_id        date      time\n",
      "0         1  2015-01-01  11:38:36\n",
      "1         2  2015-01-01  11:57:40\n",
      "2         3  2015-01-01  12:12:28\n",
      "3         4  2015-01-01  12:16:31\n",
      "4         5  2015-01-01  12:21:30\n",
      "   order_details_id  order_id       pizza_id  quantity\n",
      "0                 1         1     hawaiian_m         1\n",
      "1                 2         2  classic_dlx_m         1\n",
      "2                 3         2  five_cheese_l         1\n",
      "3                 4         2    ital_supr_l         1\n",
      "4                 5         2     mexicana_m         1\n",
      "     pizza_id pizza_type_id size  price\n",
      "0   bbq_ckn_s       bbq_ckn    S  12.75\n",
      "1   bbq_ckn_m       bbq_ckn    M  16.75\n",
      "2   bbq_ckn_l       bbq_ckn    L  20.75\n",
      "3  cali_ckn_s      cali_ckn    S  12.75\n",
      "4  cali_ckn_m      cali_ckn    M  16.75\n",
      "  pizza_type_id                          name category  \\\n",
      "0       bbq_ckn    The Barbecue Chicken Pizza  Chicken   \n",
      "1      cali_ckn  The California Chicken Pizza  Chicken   \n",
      "2   ckn_alfredo     The Chicken Alfredo Pizza  Chicken   \n",
      "3     ckn_pesto       The Chicken Pesto Pizza  Chicken   \n",
      "4    southw_ckn   The Southwest Chicken Pizza  Chicken   \n",
      "\n",
      "                                         ingredients  \n",
      "0  Barbecued Chicken, Red Peppers, Green Peppers,...  \n",
      "1  Chicken, Artichoke, Spinach, Garlic, Jalapeno ...  \n",
      "2  Chicken, Red Onions, Red Peppers, Mushrooms, A...  \n",
      "3  Chicken, Tomatoes, Red Peppers, Spinach, Garli...  \n",
      "4  Chicken, Tomatoes, Red Peppers, Red Onions, Ja...  \n"
     ]
    }
   ],
   "source": [
    "orders, order_details, pizzas, pizza_types = None, None, None, None\n",
    "absolute_path = os.path.abspath(os.path.dirname('archive'))\n",
    "\n",
    "# This is for JH filesystem. It may be different on your computer.\n",
    "orders = pd.read_csv(absolute_path + '/archive/orders.csv', encoding='latin-1')\n",
    "\n",
    "order_details = pd.read_csv(absolute_path + '/archive/order_details.csv', encoding='latin-1')\n",
    "pizzas = pd.read_csv(absolute_path + '/archive/pizzas.csv', encoding='latin-1')\n",
    "pizza_types = pd.read_csv(absolute_path + '/archive/pizza_types.csv', encoding='latin-1')\n",
    "\n",
    "# just to check if it's reading the csv file\n",
    "print(orders.head())\n",
    "print(order_details.head())\n",
    "print(pizzas.head())\n",
    "print(pizza_types.head())\n"
   ]
  },
  {
   "cell_type": "code",
   "execution_count": 3,
   "metadata": {
    "nbgrader": {
     "grade": true,
     "grade_id": "1-A",
     "locked": true,
     "points": 2,
     "schema_version": 3,
     "solution": false,
     "task": false
    }
   },
   "outputs": [],
   "source": [
    "assert orders.columns.tolist() == ['order_id', 'date', 'time']\n",
    "assert order_details.columns.tolist() == ['order_details_id', 'order_id', 'pizza_id', 'quantity']\n",
    "assert pizzas.columns.tolist() == ['pizza_id', 'pizza_type_id', 'size', 'price']\n",
    "assert pizza_types.columns.tolist() == ['pizza_type_id', 'name', 'category', 'ingredients']"
   ]
  },
  {
   "cell_type": "markdown",
   "metadata": {},
   "source": [
    "## Exploring and Shaping the Data"
   ]
  },
  {
   "cell_type": "markdown",
   "metadata": {},
   "source": [
    "### Task 2: Taking a Peek at the Dataframes"
   ]
  },
  {
   "cell_type": "markdown",
   "metadata": {},
   "source": [
    "Now that we have the csv files as dataframes, let's take a look at each of them. Examine the first 10 entries in each dataframe. Note: For pizza_types, since there are only about 30 entries, output the whole dataframe so you can get a look at all the types of pizza that are sold."
   ]
  },
  {
   "cell_type": "code",
   "execution_count": null,
   "metadata": {
    "nbgrader": {
     "grade": false,
     "grade_id": "2-1",
     "locked": false,
     "schema_version": 3,
     "solution": true,
     "task": false
    }
   },
   "outputs": [
    {
     "name": "stdout",
     "output_type": "stream",
     "text": [
      "   order_id        date      time\n",
      "0         1  2015-01-01  11:38:36\n",
      "1         2  2015-01-01  11:57:40\n",
      "2         3  2015-01-01  12:12:28\n",
      "3         4  2015-01-01  12:16:31\n",
      "4         5  2015-01-01  12:21:30\n",
      "5         6  2015-01-01  12:29:36\n",
      "6         7  2015-01-01  12:50:37\n",
      "7         8  2015-01-01  12:51:37\n",
      "8         9  2015-01-01  12:52:01\n",
      "9        10  2015-01-01  13:00:15\n"
     ]
    }
   ],
   "source": [
    "print(orders.head(10))\n"
   ]
  },
  {
   "cell_type": "code",
   "execution_count": null,
   "metadata": {
    "nbgrader": {
     "grade": false,
     "grade_id": "2-2",
     "locked": false,
     "schema_version": 3,
     "solution": true,
     "task": false
    }
   },
   "outputs": [
    {
     "name": "stdout",
     "output_type": "stream",
     "text": [
      "   order_details_id  order_id       pizza_id  quantity\n",
      "0                 1         1     hawaiian_m         1\n",
      "1                 2         2  classic_dlx_m         1\n",
      "2                 3         2  five_cheese_l         1\n",
      "3                 4         2    ital_supr_l         1\n",
      "4                 5         2     mexicana_m         1\n",
      "5                 6         2     thai_ckn_l         1\n",
      "6                 7         3    ital_supr_m         1\n",
      "7                 8         3   prsc_argla_l         1\n",
      "8                 9         4    ital_supr_m         1\n",
      "9                10         5    ital_supr_m         1\n"
     ]
    }
   ],
   "source": [
    "print(order_details.head(10))\n"
   ]
  },
  {
   "cell_type": "code",
   "execution_count": null,
   "metadata": {
    "nbgrader": {
     "grade": false,
     "grade_id": "2-3",
     "locked": false,
     "schema_version": 3,
     "solution": true,
     "task": false
    }
   },
   "outputs": [
    {
     "name": "stdout",
     "output_type": "stream",
     "text": [
      "        pizza_id pizza_type_id size  price\n",
      "0      bbq_ckn_s       bbq_ckn    S  12.75\n",
      "1      bbq_ckn_m       bbq_ckn    M  16.75\n",
      "2      bbq_ckn_l       bbq_ckn    L  20.75\n",
      "3     cali_ckn_s      cali_ckn    S  12.75\n",
      "4     cali_ckn_m      cali_ckn    M  16.75\n",
      "5     cali_ckn_l      cali_ckn    L  20.75\n",
      "6  ckn_alfredo_s   ckn_alfredo    S  12.75\n",
      "7  ckn_alfredo_m   ckn_alfredo    M  16.75\n",
      "8  ckn_alfredo_l   ckn_alfredo    L  20.75\n",
      "9    ckn_pesto_s     ckn_pesto    S  12.75\n"
     ]
    }
   ],
   "source": [
    "print(pizzas.head(10))\n"
   ]
  },
  {
   "cell_type": "code",
   "execution_count": null,
   "metadata": {
    "nbgrader": {
     "grade": false,
     "grade_id": "2-4",
     "locked": false,
     "schema_version": 3,
     "solution": true,
     "task": false
    }
   },
   "outputs": [
    {
     "name": "stdout",
     "output_type": "stream",
     "text": [
      "   pizza_type_id                                        name category  \\\n",
      "0        bbq_ckn                  The Barbecue Chicken Pizza  Chicken   \n",
      "1       cali_ckn                The California Chicken Pizza  Chicken   \n",
      "2    ckn_alfredo                   The Chicken Alfredo Pizza  Chicken   \n",
      "3      ckn_pesto                     The Chicken Pesto Pizza  Chicken   \n",
      "4     southw_ckn                 The Southwest Chicken Pizza  Chicken   \n",
      "5       thai_ckn                      The Thai Chicken Pizza  Chicken   \n",
      "6       big_meat                          The Big Meat Pizza  Classic   \n",
      "7    classic_dlx                    The Classic Deluxe Pizza  Classic   \n",
      "8       hawaiian                          The Hawaiian Pizza  Classic   \n",
      "9    ital_cpcllo                 The Italian Capocollo Pizza  Classic   \n",
      "10    napolitana                        The Napolitana Pizza  Classic   \n",
      "11   pep_msh_pep  The Pepperoni, Mushroom, and Peppers Pizza  Classic   \n",
      "12     pepperoni                         The Pepperoni Pizza  Classic   \n",
      "13     the_greek                             The Greek Pizza  Classic   \n",
      "14    brie_carre                        The Brie Carre Pizza  Supreme   \n",
      "15     calabrese                         The Calabrese Pizza  Supreme   \n",
      "16     ital_supr                   The Italian Supreme Pizza  Supreme   \n",
      "17  peppr_salami                     The Pepper Salami Pizza  Supreme   \n",
      "18    prsc_argla            The Prosciutto and Arugula Pizza  Supreme   \n",
      "19      sicilian                          The Sicilian Pizza  Supreme   \n",
      "20   soppressata                       The Soppressata Pizza  Supreme   \n",
      "21    spicy_ital                     The Spicy Italian Pizza  Supreme   \n",
      "22  spinach_supr                   The Spinach Supreme Pizza  Supreme   \n",
      "23   five_cheese                       The Five Cheese Pizza   Veggie   \n",
      "24   four_cheese                       The Four Cheese Pizza   Veggie   \n",
      "25  green_garden                      The Green Garden Pizza   Veggie   \n",
      "26   ital_veggie                The Italian Vegetables Pizza   Veggie   \n",
      "27  mediterraneo                     The Mediterranean Pizza   Veggie   \n",
      "28      mexicana                          The Mexicana Pizza   Veggie   \n",
      "29    spin_pesto                     The Spinach Pesto Pizza   Veggie   \n",
      "30   spinach_fet                  The Spinach and Feta Pizza   Veggie   \n",
      "31    veggie_veg           The Vegetables + Vegetables Pizza   Veggie   \n",
      "\n",
      "                                          ingredients  \n",
      "0   Barbecued Chicken, Red Peppers, Green Peppers,...  \n",
      "1   Chicken, Artichoke, Spinach, Garlic, Jalapeno ...  \n",
      "2   Chicken, Red Onions, Red Peppers, Mushrooms, A...  \n",
      "3   Chicken, Tomatoes, Red Peppers, Spinach, Garli...  \n",
      "4   Chicken, Tomatoes, Red Peppers, Red Onions, Ja...  \n",
      "5   Chicken, Pineapple, Tomatoes, Red Peppers, Tha...  \n",
      "6   Bacon, Pepperoni, Italian Sausage, Chorizo Sau...  \n",
      "7   Pepperoni, Mushrooms, Red Onions, Red Peppers,...  \n",
      "8            Sliced Ham, Pineapple, Mozzarella Cheese  \n",
      "9   Capocollo, Red Peppers, Tomatoes, Goat Cheese,...  \n",
      "10  Tomatoes, Anchovies, Green Olives, Red Onions,...  \n",
      "11                Pepperoni, Mushrooms, Green Peppers  \n",
      "12                       Mozzarella Cheese, Pepperoni  \n",
      "13  Kalamata Olives, Feta Cheese, Tomatoes, Garlic...  \n",
      "14  Brie Carre Cheese, Prosciutto, Caramelized Oni...  \n",
      "15  Nduja Salami, Pancetta, Tomatoes, Red Onions,...  \n",
      "16  Calabrese Salami, Capocollo, Tomatoes, Red Oni...  \n",
      "17  Genoa Salami, Capocollo, Pepperoni, Tomatoes, ...  \n",
      "18  Prosciutto di San Daniele, Arugula, Mozzarella...  \n",
      "19  Coarse Sicilian Salami, Tomatoes, Green Olives...  \n",
      "20  Soppressata Salami, Fontina Cheese, Mozzarella...  \n",
      "21  Capocollo, Tomatoes, Goat Cheese, Artichokes, ...  \n",
      "22  Spinach, Red Onions, Pepperoni, Tomatoes, Arti...  \n",
      "23  Mozzarella Cheese, Provolone Cheese, Smoked Go...  \n",
      "24  Ricotta Cheese, Gorgonzola Piccante Cheese, Mo...  \n",
      "25  Spinach, Mushrooms, Tomatoes, Green Olives, Fe...  \n",
      "26  Eggplant, Artichokes, Tomatoes, Zucchini, Red ...  \n",
      "27  Spinach, Artichokes, Kalamata Olives, Sun-drie...  \n",
      "28  Tomatoes, Red Peppers, Jalapeno Peppers, Red O...  \n",
      "29  Spinach, Artichokes, Tomatoes, Sun-dried Tomat...  \n",
      "30  Spinach, Mushrooms, Red Onions, Feta Cheese, G...  \n",
      "31  Mushrooms, Tomatoes, Red Peppers, Green Pepper...  \n"
     ]
    }
   ],
   "source": [
    "print(pizza_types)\n"
   ]
  },
  {
   "cell_type": "markdown",
   "metadata": {},
   "source": [
    "#### Question (answer in the cell below): What is the `pizza_type_id` at index 29 in `pizza_types`?"
   ]
  },
  {
   "cell_type": "markdown",
   "metadata": {
    "nbgrader": {
     "grade": true,
     "grade_id": "2-A",
     "locked": false,
     "points": 2,
     "schema_version": 3,
     "solution": true,
     "task": false
    }
   },
   "source": [
    "spin_pesto                     "
   ]
  },
  {
   "cell_type": "markdown",
   "metadata": {},
   "source": [
    "### Task 3: Merging the Dataframes"
   ]
  },
  {
   "cell_type": "markdown",
   "metadata": {},
   "source": [
    "Looks like we have some pretty simple tables, so it should be a breeze to merge them all together for easier analysis. Let's go ahead and do that now."
   ]
  },
  {
   "cell_type": "markdown",
   "metadata": {},
   "source": [
    "Hint\n",
    "\n",
    "<details>\n",
    "\n",
    "`pd.merge()` will be come in handy for this one! Make sure you're merging on the right attribute for each merge."
   ]
  },
  {
   "cell_type": "code",
   "execution_count": null,
   "metadata": {
    "nbgrader": {
     "grade": false,
     "grade_id": "3-1",
     "locked": false,
     "schema_version": 3,
     "solution": true,
     "task": false
    }
   },
   "outputs": [
    {
     "name": "stdout",
     "output_type": "stream",
     "text": [
      "(48620, 12)\n",
      "       order_id        date      time  order_details_id      pizza_id  \\\n",
      "0             1  2015-01-01  11:38:36                 1    hawaiian_m   \n",
      "1            77  2015-01-02  12:22:46               179    hawaiian_m   \n",
      "2           146  2015-01-03  14:22:10               357    hawaiian_m   \n",
      "3           163  2015-01-03  16:54:54               389    hawaiian_m   \n",
      "4           247  2015-01-04  20:55:29               568    hawaiian_m   \n",
      "...         ...         ...       ...               ...           ...   \n",
      "48615     21167  2015-12-27  17:39:57             48176  brie_carre_s   \n",
      "48616     21198  2015-12-28  15:39:02             48244  brie_carre_s   \n",
      "48617     21225  2015-12-29  13:20:17             48311  brie_carre_s   \n",
      "48618     21282  2015-12-31  12:09:59             48456  brie_carre_s   \n",
      "48619     21308  2015-12-31  16:44:35             48527  brie_carre_s   \n",
      "\n",
      "       quantity pizza_type_id size  price                  name category  \\\n",
      "0             1      hawaiian    M  13.25    The Hawaiian Pizza  Classic   \n",
      "1             1      hawaiian    M  13.25    The Hawaiian Pizza  Classic   \n",
      "2             1      hawaiian    M  13.25    The Hawaiian Pizza  Classic   \n",
      "3             1      hawaiian    M  13.25    The Hawaiian Pizza  Classic   \n",
      "4             1      hawaiian    M  13.25    The Hawaiian Pizza  Classic   \n",
      "...         ...           ...  ...    ...                   ...      ...   \n",
      "48615         1    brie_carre    S  23.65  The Brie Carre Pizza  Supreme   \n",
      "48616         1    brie_carre    S  23.65  The Brie Carre Pizza  Supreme   \n",
      "48617         1    brie_carre    S  23.65  The Brie Carre Pizza  Supreme   \n",
      "48618         1    brie_carre    S  23.65  The Brie Carre Pizza  Supreme   \n",
      "48619         1    brie_carre    S  23.65  The Brie Carre Pizza  Supreme   \n",
      "\n",
      "                                             ingredients  \n",
      "0               Sliced Ham, Pineapple, Mozzarella Cheese  \n",
      "1               Sliced Ham, Pineapple, Mozzarella Cheese  \n",
      "2               Sliced Ham, Pineapple, Mozzarella Cheese  \n",
      "3               Sliced Ham, Pineapple, Mozzarella Cheese  \n",
      "4               Sliced Ham, Pineapple, Mozzarella Cheese  \n",
      "...                                                  ...  \n",
      "48615  Brie Carre Cheese, Prosciutto, Caramelized Oni...  \n",
      "48616  Brie Carre Cheese, Prosciutto, Caramelized Oni...  \n",
      "48617  Brie Carre Cheese, Prosciutto, Caramelized Oni...  \n",
      "48618  Brie Carre Cheese, Prosciutto, Caramelized Oni...  \n",
      "48619  Brie Carre Cheese, Prosciutto, Caramelized Oni...  \n",
      "\n",
      "[48620 rows x 12 columns]\n"
     ]
    },
    {
     "data": {
      "text/html": [
       "<div>\n",
       "<style scoped>\n",
       "    .dataframe tbody tr th:only-of-type {\n",
       "        vertical-align: middle;\n",
       "    }\n",
       "\n",
       "    .dataframe tbody tr th {\n",
       "        vertical-align: top;\n",
       "    }\n",
       "\n",
       "    .dataframe thead th {\n",
       "        text-align: right;\n",
       "    }\n",
       "</style>\n",
       "<table border=\"1\" class=\"dataframe\">\n",
       "  <thead>\n",
       "    <tr style=\"text-align: right;\">\n",
       "      <th></th>\n",
       "      <th>order_id</th>\n",
       "      <th>date</th>\n",
       "      <th>time</th>\n",
       "      <th>order_details_id</th>\n",
       "      <th>pizza_id</th>\n",
       "      <th>quantity</th>\n",
       "      <th>pizza_type_id</th>\n",
       "      <th>size</th>\n",
       "      <th>price</th>\n",
       "      <th>name</th>\n",
       "      <th>category</th>\n",
       "      <th>ingredients</th>\n",
       "    </tr>\n",
       "  </thead>\n",
       "  <tbody>\n",
       "    <tr>\n",
       "      <th>0</th>\n",
       "      <td>1</td>\n",
       "      <td>2015-01-01</td>\n",
       "      <td>11:38:36</td>\n",
       "      <td>1</td>\n",
       "      <td>hawaiian_m</td>\n",
       "      <td>1</td>\n",
       "      <td>hawaiian</td>\n",
       "      <td>M</td>\n",
       "      <td>13.25</td>\n",
       "      <td>The Hawaiian Pizza</td>\n",
       "      <td>Classic</td>\n",
       "      <td>Sliced Ham, Pineapple, Mozzarella Cheese</td>\n",
       "    </tr>\n",
       "    <tr>\n",
       "      <th>1</th>\n",
       "      <td>77</td>\n",
       "      <td>2015-01-02</td>\n",
       "      <td>12:22:46</td>\n",
       "      <td>179</td>\n",
       "      <td>hawaiian_m</td>\n",
       "      <td>1</td>\n",
       "      <td>hawaiian</td>\n",
       "      <td>M</td>\n",
       "      <td>13.25</td>\n",
       "      <td>The Hawaiian Pizza</td>\n",
       "      <td>Classic</td>\n",
       "      <td>Sliced Ham, Pineapple, Mozzarella Cheese</td>\n",
       "    </tr>\n",
       "    <tr>\n",
       "      <th>2</th>\n",
       "      <td>146</td>\n",
       "      <td>2015-01-03</td>\n",
       "      <td>14:22:10</td>\n",
       "      <td>357</td>\n",
       "      <td>hawaiian_m</td>\n",
       "      <td>1</td>\n",
       "      <td>hawaiian</td>\n",
       "      <td>M</td>\n",
       "      <td>13.25</td>\n",
       "      <td>The Hawaiian Pizza</td>\n",
       "      <td>Classic</td>\n",
       "      <td>Sliced Ham, Pineapple, Mozzarella Cheese</td>\n",
       "    </tr>\n",
       "    <tr>\n",
       "      <th>3</th>\n",
       "      <td>163</td>\n",
       "      <td>2015-01-03</td>\n",
       "      <td>16:54:54</td>\n",
       "      <td>389</td>\n",
       "      <td>hawaiian_m</td>\n",
       "      <td>1</td>\n",
       "      <td>hawaiian</td>\n",
       "      <td>M</td>\n",
       "      <td>13.25</td>\n",
       "      <td>The Hawaiian Pizza</td>\n",
       "      <td>Classic</td>\n",
       "      <td>Sliced Ham, Pineapple, Mozzarella Cheese</td>\n",
       "    </tr>\n",
       "    <tr>\n",
       "      <th>4</th>\n",
       "      <td>247</td>\n",
       "      <td>2015-01-04</td>\n",
       "      <td>20:55:29</td>\n",
       "      <td>568</td>\n",
       "      <td>hawaiian_m</td>\n",
       "      <td>1</td>\n",
       "      <td>hawaiian</td>\n",
       "      <td>M</td>\n",
       "      <td>13.25</td>\n",
       "      <td>The Hawaiian Pizza</td>\n",
       "      <td>Classic</td>\n",
       "      <td>Sliced Ham, Pineapple, Mozzarella Cheese</td>\n",
       "    </tr>\n",
       "    <tr>\n",
       "      <th>...</th>\n",
       "      <td>...</td>\n",
       "      <td>...</td>\n",
       "      <td>...</td>\n",
       "      <td>...</td>\n",
       "      <td>...</td>\n",
       "      <td>...</td>\n",
       "      <td>...</td>\n",
       "      <td>...</td>\n",
       "      <td>...</td>\n",
       "      <td>...</td>\n",
       "      <td>...</td>\n",
       "      <td>...</td>\n",
       "    </tr>\n",
       "    <tr>\n",
       "      <th>48615</th>\n",
       "      <td>21167</td>\n",
       "      <td>2015-12-27</td>\n",
       "      <td>17:39:57</td>\n",
       "      <td>48176</td>\n",
       "      <td>brie_carre_s</td>\n",
       "      <td>1</td>\n",
       "      <td>brie_carre</td>\n",
       "      <td>S</td>\n",
       "      <td>23.65</td>\n",
       "      <td>The Brie Carre Pizza</td>\n",
       "      <td>Supreme</td>\n",
       "      <td>Brie Carre Cheese, Prosciutto, Caramelized Oni...</td>\n",
       "    </tr>\n",
       "    <tr>\n",
       "      <th>48616</th>\n",
       "      <td>21198</td>\n",
       "      <td>2015-12-28</td>\n",
       "      <td>15:39:02</td>\n",
       "      <td>48244</td>\n",
       "      <td>brie_carre_s</td>\n",
       "      <td>1</td>\n",
       "      <td>brie_carre</td>\n",
       "      <td>S</td>\n",
       "      <td>23.65</td>\n",
       "      <td>The Brie Carre Pizza</td>\n",
       "      <td>Supreme</td>\n",
       "      <td>Brie Carre Cheese, Prosciutto, Caramelized Oni...</td>\n",
       "    </tr>\n",
       "    <tr>\n",
       "      <th>48617</th>\n",
       "      <td>21225</td>\n",
       "      <td>2015-12-29</td>\n",
       "      <td>13:20:17</td>\n",
       "      <td>48311</td>\n",
       "      <td>brie_carre_s</td>\n",
       "      <td>1</td>\n",
       "      <td>brie_carre</td>\n",
       "      <td>S</td>\n",
       "      <td>23.65</td>\n",
       "      <td>The Brie Carre Pizza</td>\n",
       "      <td>Supreme</td>\n",
       "      <td>Brie Carre Cheese, Prosciutto, Caramelized Oni...</td>\n",
       "    </tr>\n",
       "    <tr>\n",
       "      <th>48618</th>\n",
       "      <td>21282</td>\n",
       "      <td>2015-12-31</td>\n",
       "      <td>12:09:59</td>\n",
       "      <td>48456</td>\n",
       "      <td>brie_carre_s</td>\n",
       "      <td>1</td>\n",
       "      <td>brie_carre</td>\n",
       "      <td>S</td>\n",
       "      <td>23.65</td>\n",
       "      <td>The Brie Carre Pizza</td>\n",
       "      <td>Supreme</td>\n",
       "      <td>Brie Carre Cheese, Prosciutto, Caramelized Oni...</td>\n",
       "    </tr>\n",
       "    <tr>\n",
       "      <th>48619</th>\n",
       "      <td>21308</td>\n",
       "      <td>2015-12-31</td>\n",
       "      <td>16:44:35</td>\n",
       "      <td>48527</td>\n",
       "      <td>brie_carre_s</td>\n",
       "      <td>1</td>\n",
       "      <td>brie_carre</td>\n",
       "      <td>S</td>\n",
       "      <td>23.65</td>\n",
       "      <td>The Brie Carre Pizza</td>\n",
       "      <td>Supreme</td>\n",
       "      <td>Brie Carre Cheese, Prosciutto, Caramelized Oni...</td>\n",
       "    </tr>\n",
       "  </tbody>\n",
       "</table>\n",
       "<p>48620 rows × 12 columns</p>\n",
       "</div>"
      ],
      "text/plain": [
       "       order_id        date      time  order_details_id      pizza_id  \\\n",
       "0             1  2015-01-01  11:38:36                 1    hawaiian_m   \n",
       "1            77  2015-01-02  12:22:46               179    hawaiian_m   \n",
       "2           146  2015-01-03  14:22:10               357    hawaiian_m   \n",
       "3           163  2015-01-03  16:54:54               389    hawaiian_m   \n",
       "4           247  2015-01-04  20:55:29               568    hawaiian_m   \n",
       "...         ...         ...       ...               ...           ...   \n",
       "48615     21167  2015-12-27  17:39:57             48176  brie_carre_s   \n",
       "48616     21198  2015-12-28  15:39:02             48244  brie_carre_s   \n",
       "48617     21225  2015-12-29  13:20:17             48311  brie_carre_s   \n",
       "48618     21282  2015-12-31  12:09:59             48456  brie_carre_s   \n",
       "48619     21308  2015-12-31  16:44:35             48527  brie_carre_s   \n",
       "\n",
       "       quantity pizza_type_id size  price                  name category  \\\n",
       "0             1      hawaiian    M  13.25    The Hawaiian Pizza  Classic   \n",
       "1             1      hawaiian    M  13.25    The Hawaiian Pizza  Classic   \n",
       "2             1      hawaiian    M  13.25    The Hawaiian Pizza  Classic   \n",
       "3             1      hawaiian    M  13.25    The Hawaiian Pizza  Classic   \n",
       "4             1      hawaiian    M  13.25    The Hawaiian Pizza  Classic   \n",
       "...         ...           ...  ...    ...                   ...      ...   \n",
       "48615         1    brie_carre    S  23.65  The Brie Carre Pizza  Supreme   \n",
       "48616         1    brie_carre    S  23.65  The Brie Carre Pizza  Supreme   \n",
       "48617         1    brie_carre    S  23.65  The Brie Carre Pizza  Supreme   \n",
       "48618         1    brie_carre    S  23.65  The Brie Carre Pizza  Supreme   \n",
       "48619         1    brie_carre    S  23.65  The Brie Carre Pizza  Supreme   \n",
       "\n",
       "                                             ingredients  \n",
       "0               Sliced Ham, Pineapple, Mozzarella Cheese  \n",
       "1               Sliced Ham, Pineapple, Mozzarella Cheese  \n",
       "2               Sliced Ham, Pineapple, Mozzarella Cheese  \n",
       "3               Sliced Ham, Pineapple, Mozzarella Cheese  \n",
       "4               Sliced Ham, Pineapple, Mozzarella Cheese  \n",
       "...                                                  ...  \n",
       "48615  Brie Carre Cheese, Prosciutto, Caramelized Oni...  \n",
       "48616  Brie Carre Cheese, Prosciutto, Caramelized Oni...  \n",
       "48617  Brie Carre Cheese, Prosciutto, Caramelized Oni...  \n",
       "48618  Brie Carre Cheese, Prosciutto, Caramelized Oni...  \n",
       "48619  Brie Carre Cheese, Prosciutto, Caramelized Oni...  \n",
       "\n",
       "[48620 rows x 12 columns]"
      ]
     },
     "execution_count": 11,
     "metadata": {},
     "output_type": "execute_result"
    }
   ],
   "source": [
    "merged_data = None\n",
    "\n",
    "merged_data = pd.merge(orders, order_details, on='order_id')\n",
    "merged_data = pd.merge(merged_data, pizzas, on='pizza_id')\n",
    "merged_data = pd.merge(merged_data, pizza_types, on='pizza_type_id')\n",
    "\n",
    "print(merged_data.shape) \n",
    "print(merged_data)\n",
    "\n",
    "merged_data"
   ]
  },
  {
   "cell_type": "code",
   "execution_count": 12,
   "metadata": {
    "nbgrader": {
     "grade": true,
     "grade_id": "3-A",
     "locked": true,
     "points": 2,
     "schema_version": 3,
     "solution": false,
     "task": false
    }
   },
   "outputs": [
    {
     "name": "stdout",
     "output_type": "stream",
     "text": [
      "Success!\n"
     ]
    }
   ],
   "source": [
    "assert merged_data.shape == (48620, 12)\n",
    "print('Success!')"
   ]
  },
  {
   "cell_type": "markdown",
   "metadata": {},
   "source": [
    "### Task 4: Finding Basic Frequencies"
   ]
  },
  {
   "cell_type": "markdown",
   "metadata": {},
   "source": [
    "Nice, that's a bit better! Now we have all of our data in one easily-referenced dataframe. Let's take a look at a few different columns and find the frequencies of their values. Let's look at `category` and `size`.\n",
    "\n",
    "Hint:\n",
    "\n",
    "<details>\n",
    "\n",
    "Pandas Series have a method specifically to **count values**."
   ]
  },
  {
   "cell_type": "code",
   "execution_count": null,
   "metadata": {
    "nbgrader": {
     "grade": false,
     "grade_id": "4-1",
     "locked": false,
     "schema_version": 3,
     "solution": true,
     "task": false
    }
   },
   "outputs": [
    {
     "name": "stdout",
     "output_type": "stream",
     "text": [
      "category\n",
      "Classic    14579\n",
      "Supreme    11777\n",
      "Veggie     11449\n",
      "Chicken    10815\n",
      "Name: count, dtype: int64\n"
     ]
    }
   ],
   "source": [
    "category_frequencies = merged_data['category'].value_counts()\n",
    "print(category_frequencies)\n"
   ]
  },
  {
   "cell_type": "code",
   "execution_count": null,
   "metadata": {
    "nbgrader": {
     "grade": false,
     "grade_id": "4-2",
     "locked": false,
     "schema_version": 3,
     "solution": true,
     "task": false
    }
   },
   "outputs": [
    {
     "name": "stdout",
     "output_type": "stream",
     "text": [
      "size\n",
      "L      18526\n",
      "M      15385\n",
      "S      14137\n",
      "XL       544\n",
      "XXL       28\n",
      "Name: count, dtype: int64\n"
     ]
    }
   ],
   "source": [
    "size_frequencies = merged_data['size'].value_counts()\n",
    "print(size_frequencies)\n"
   ]
  },
  {
   "cell_type": "markdown",
   "metadata": {},
   "source": [
    "### Question: From these observations, what is the most likely combination of category and size in an order?"
   ]
  },
  {
   "cell_type": "markdown",
   "metadata": {
    "nbgrader": {
     "grade": true,
     "grade_id": "4-A",
     "locked": false,
     "points": 2,
     "schema_version": 3,
     "solution": true,
     "task": false
    }
   },
   "source": [
    "\"Classic\" pizza in \"L\" size"
   ]
  },
  {
   "cell_type": "markdown",
   "metadata": {},
   "source": [
    "### Task 5: Making New Columns"
   ]
  },
  {
   "cell_type": "markdown",
   "metadata": {},
   "source": [
    "Awesome! Now we want to make a new column in our dataframe for later easy analysis - we're going to update and combine our `date` and `time` columns into a new `datetime` column.\n",
    "\n",
    "Note: You're not deleting any columns, just updating them. Be sure you're actually updating them, too, since `pd` methods tend to be in-place operations and don't inherently change the referenced object.\n",
    "\n",
    "Hints:\n",
    "\n",
    "<details>\n",
    "\n",
    "`date` is a breeze, we're just using `.to_datetime()` on it to convert it to the right format.\n",
    "`time` is a little odder because we want JUST the time and when we convert it to a datetime (as you may see), it ends up including the default year of 1900 (which is inaccurate) - this is why we append .dt.time to the end of our `.to_datetime()` method - this will convert the column back into an object dtype - this is fine\n",
    "`datetime` is simply a datetime-formatted combination of `date` (as a string) and `time` (as a string).\n"
   ]
  },
  {
   "cell_type": "code",
   "execution_count": null,
   "metadata": {
    "nbgrader": {
     "grade": false,
     "grade_id": "5-A",
     "locked": false,
     "schema_version": 3,
     "solution": true,
     "task": false
    }
   },
   "outputs": [
    {
     "data": {
      "text/html": [
       "<div>\n",
       "<style scoped>\n",
       "    .dataframe tbody tr th:only-of-type {\n",
       "        vertical-align: middle;\n",
       "    }\n",
       "\n",
       "    .dataframe tbody tr th {\n",
       "        vertical-align: top;\n",
       "    }\n",
       "\n",
       "    .dataframe thead th {\n",
       "        text-align: right;\n",
       "    }\n",
       "</style>\n",
       "<table border=\"1\" class=\"dataframe\">\n",
       "  <thead>\n",
       "    <tr style=\"text-align: right;\">\n",
       "      <th></th>\n",
       "      <th>order_id</th>\n",
       "      <th>date</th>\n",
       "      <th>time</th>\n",
       "      <th>order_details_id</th>\n",
       "      <th>pizza_id</th>\n",
       "      <th>quantity</th>\n",
       "      <th>pizza_type_id</th>\n",
       "      <th>size</th>\n",
       "      <th>price</th>\n",
       "      <th>name</th>\n",
       "      <th>category</th>\n",
       "      <th>ingredients</th>\n",
       "      <th>datetime</th>\n",
       "    </tr>\n",
       "  </thead>\n",
       "  <tbody>\n",
       "    <tr>\n",
       "      <th>0</th>\n",
       "      <td>1</td>\n",
       "      <td>2015-01-01</td>\n",
       "      <td>11:38:36</td>\n",
       "      <td>1</td>\n",
       "      <td>hawaiian_m</td>\n",
       "      <td>1</td>\n",
       "      <td>hawaiian</td>\n",
       "      <td>M</td>\n",
       "      <td>13.25</td>\n",
       "      <td>The Hawaiian Pizza</td>\n",
       "      <td>Classic</td>\n",
       "      <td>Sliced Ham, Pineapple, Mozzarella Cheese</td>\n",
       "      <td>2015-01-01 11:38:36</td>\n",
       "    </tr>\n",
       "    <tr>\n",
       "      <th>1</th>\n",
       "      <td>77</td>\n",
       "      <td>2015-01-02</td>\n",
       "      <td>12:22:46</td>\n",
       "      <td>179</td>\n",
       "      <td>hawaiian_m</td>\n",
       "      <td>1</td>\n",
       "      <td>hawaiian</td>\n",
       "      <td>M</td>\n",
       "      <td>13.25</td>\n",
       "      <td>The Hawaiian Pizza</td>\n",
       "      <td>Classic</td>\n",
       "      <td>Sliced Ham, Pineapple, Mozzarella Cheese</td>\n",
       "      <td>2015-01-02 12:22:46</td>\n",
       "    </tr>\n",
       "    <tr>\n",
       "      <th>2</th>\n",
       "      <td>146</td>\n",
       "      <td>2015-01-03</td>\n",
       "      <td>14:22:10</td>\n",
       "      <td>357</td>\n",
       "      <td>hawaiian_m</td>\n",
       "      <td>1</td>\n",
       "      <td>hawaiian</td>\n",
       "      <td>M</td>\n",
       "      <td>13.25</td>\n",
       "      <td>The Hawaiian Pizza</td>\n",
       "      <td>Classic</td>\n",
       "      <td>Sliced Ham, Pineapple, Mozzarella Cheese</td>\n",
       "      <td>2015-01-03 14:22:10</td>\n",
       "    </tr>\n",
       "    <tr>\n",
       "      <th>3</th>\n",
       "      <td>163</td>\n",
       "      <td>2015-01-03</td>\n",
       "      <td>16:54:54</td>\n",
       "      <td>389</td>\n",
       "      <td>hawaiian_m</td>\n",
       "      <td>1</td>\n",
       "      <td>hawaiian</td>\n",
       "      <td>M</td>\n",
       "      <td>13.25</td>\n",
       "      <td>The Hawaiian Pizza</td>\n",
       "      <td>Classic</td>\n",
       "      <td>Sliced Ham, Pineapple, Mozzarella Cheese</td>\n",
       "      <td>2015-01-03 16:54:54</td>\n",
       "    </tr>\n",
       "    <tr>\n",
       "      <th>4</th>\n",
       "      <td>247</td>\n",
       "      <td>2015-01-04</td>\n",
       "      <td>20:55:29</td>\n",
       "      <td>568</td>\n",
       "      <td>hawaiian_m</td>\n",
       "      <td>1</td>\n",
       "      <td>hawaiian</td>\n",
       "      <td>M</td>\n",
       "      <td>13.25</td>\n",
       "      <td>The Hawaiian Pizza</td>\n",
       "      <td>Classic</td>\n",
       "      <td>Sliced Ham, Pineapple, Mozzarella Cheese</td>\n",
       "      <td>2015-01-04 20:55:29</td>\n",
       "    </tr>\n",
       "    <tr>\n",
       "      <th>...</th>\n",
       "      <td>...</td>\n",
       "      <td>...</td>\n",
       "      <td>...</td>\n",
       "      <td>...</td>\n",
       "      <td>...</td>\n",
       "      <td>...</td>\n",
       "      <td>...</td>\n",
       "      <td>...</td>\n",
       "      <td>...</td>\n",
       "      <td>...</td>\n",
       "      <td>...</td>\n",
       "      <td>...</td>\n",
       "      <td>...</td>\n",
       "    </tr>\n",
       "    <tr>\n",
       "      <th>48615</th>\n",
       "      <td>21167</td>\n",
       "      <td>2015-12-27</td>\n",
       "      <td>17:39:57</td>\n",
       "      <td>48176</td>\n",
       "      <td>brie_carre_s</td>\n",
       "      <td>1</td>\n",
       "      <td>brie_carre</td>\n",
       "      <td>S</td>\n",
       "      <td>23.65</td>\n",
       "      <td>The Brie Carre Pizza</td>\n",
       "      <td>Supreme</td>\n",
       "      <td>Brie Carre Cheese, Prosciutto, Caramelized Oni...</td>\n",
       "      <td>2015-12-27 17:39:57</td>\n",
       "    </tr>\n",
       "    <tr>\n",
       "      <th>48616</th>\n",
       "      <td>21198</td>\n",
       "      <td>2015-12-28</td>\n",
       "      <td>15:39:02</td>\n",
       "      <td>48244</td>\n",
       "      <td>brie_carre_s</td>\n",
       "      <td>1</td>\n",
       "      <td>brie_carre</td>\n",
       "      <td>S</td>\n",
       "      <td>23.65</td>\n",
       "      <td>The Brie Carre Pizza</td>\n",
       "      <td>Supreme</td>\n",
       "      <td>Brie Carre Cheese, Prosciutto, Caramelized Oni...</td>\n",
       "      <td>2015-12-28 15:39:02</td>\n",
       "    </tr>\n",
       "    <tr>\n",
       "      <th>48617</th>\n",
       "      <td>21225</td>\n",
       "      <td>2015-12-29</td>\n",
       "      <td>13:20:17</td>\n",
       "      <td>48311</td>\n",
       "      <td>brie_carre_s</td>\n",
       "      <td>1</td>\n",
       "      <td>brie_carre</td>\n",
       "      <td>S</td>\n",
       "      <td>23.65</td>\n",
       "      <td>The Brie Carre Pizza</td>\n",
       "      <td>Supreme</td>\n",
       "      <td>Brie Carre Cheese, Prosciutto, Caramelized Oni...</td>\n",
       "      <td>2015-12-29 13:20:17</td>\n",
       "    </tr>\n",
       "    <tr>\n",
       "      <th>48618</th>\n",
       "      <td>21282</td>\n",
       "      <td>2015-12-31</td>\n",
       "      <td>12:09:59</td>\n",
       "      <td>48456</td>\n",
       "      <td>brie_carre_s</td>\n",
       "      <td>1</td>\n",
       "      <td>brie_carre</td>\n",
       "      <td>S</td>\n",
       "      <td>23.65</td>\n",
       "      <td>The Brie Carre Pizza</td>\n",
       "      <td>Supreme</td>\n",
       "      <td>Brie Carre Cheese, Prosciutto, Caramelized Oni...</td>\n",
       "      <td>2015-12-31 12:09:59</td>\n",
       "    </tr>\n",
       "    <tr>\n",
       "      <th>48619</th>\n",
       "      <td>21308</td>\n",
       "      <td>2015-12-31</td>\n",
       "      <td>16:44:35</td>\n",
       "      <td>48527</td>\n",
       "      <td>brie_carre_s</td>\n",
       "      <td>1</td>\n",
       "      <td>brie_carre</td>\n",
       "      <td>S</td>\n",
       "      <td>23.65</td>\n",
       "      <td>The Brie Carre Pizza</td>\n",
       "      <td>Supreme</td>\n",
       "      <td>Brie Carre Cheese, Prosciutto, Caramelized Oni...</td>\n",
       "      <td>2015-12-31 16:44:35</td>\n",
       "    </tr>\n",
       "  </tbody>\n",
       "</table>\n",
       "<p>48620 rows × 13 columns</p>\n",
       "</div>"
      ],
      "text/plain": [
       "       order_id       date      time  order_details_id      pizza_id  \\\n",
       "0             1 2015-01-01  11:38:36                 1    hawaiian_m   \n",
       "1            77 2015-01-02  12:22:46               179    hawaiian_m   \n",
       "2           146 2015-01-03  14:22:10               357    hawaiian_m   \n",
       "3           163 2015-01-03  16:54:54               389    hawaiian_m   \n",
       "4           247 2015-01-04  20:55:29               568    hawaiian_m   \n",
       "...         ...        ...       ...               ...           ...   \n",
       "48615     21167 2015-12-27  17:39:57             48176  brie_carre_s   \n",
       "48616     21198 2015-12-28  15:39:02             48244  brie_carre_s   \n",
       "48617     21225 2015-12-29  13:20:17             48311  brie_carre_s   \n",
       "48618     21282 2015-12-31  12:09:59             48456  brie_carre_s   \n",
       "48619     21308 2015-12-31  16:44:35             48527  brie_carre_s   \n",
       "\n",
       "       quantity pizza_type_id size  price                  name category  \\\n",
       "0             1      hawaiian    M  13.25    The Hawaiian Pizza  Classic   \n",
       "1             1      hawaiian    M  13.25    The Hawaiian Pizza  Classic   \n",
       "2             1      hawaiian    M  13.25    The Hawaiian Pizza  Classic   \n",
       "3             1      hawaiian    M  13.25    The Hawaiian Pizza  Classic   \n",
       "4             1      hawaiian    M  13.25    The Hawaiian Pizza  Classic   \n",
       "...         ...           ...  ...    ...                   ...      ...   \n",
       "48615         1    brie_carre    S  23.65  The Brie Carre Pizza  Supreme   \n",
       "48616         1    brie_carre    S  23.65  The Brie Carre Pizza  Supreme   \n",
       "48617         1    brie_carre    S  23.65  The Brie Carre Pizza  Supreme   \n",
       "48618         1    brie_carre    S  23.65  The Brie Carre Pizza  Supreme   \n",
       "48619         1    brie_carre    S  23.65  The Brie Carre Pizza  Supreme   \n",
       "\n",
       "                                             ingredients             datetime  \n",
       "0               Sliced Ham, Pineapple, Mozzarella Cheese  2015-01-01 11:38:36  \n",
       "1               Sliced Ham, Pineapple, Mozzarella Cheese  2015-01-02 12:22:46  \n",
       "2               Sliced Ham, Pineapple, Mozzarella Cheese  2015-01-03 14:22:10  \n",
       "3               Sliced Ham, Pineapple, Mozzarella Cheese  2015-01-03 16:54:54  \n",
       "4               Sliced Ham, Pineapple, Mozzarella Cheese  2015-01-04 20:55:29  \n",
       "...                                                  ...                  ...  \n",
       "48615  Brie Carre Cheese, Prosciutto, Caramelized Oni...  2015-12-27 17:39:57  \n",
       "48616  Brie Carre Cheese, Prosciutto, Caramelized Oni...  2015-12-28 15:39:02  \n",
       "48617  Brie Carre Cheese, Prosciutto, Caramelized Oni...  2015-12-29 13:20:17  \n",
       "48618  Brie Carre Cheese, Prosciutto, Caramelized Oni...  2015-12-31 12:09:59  \n",
       "48619  Brie Carre Cheese, Prosciutto, Caramelized Oni...  2015-12-31 16:44:35  \n",
       "\n",
       "[48620 rows x 13 columns]"
      ]
     },
     "execution_count": 22,
     "metadata": {},
     "output_type": "execute_result"
    }
   ],
   "source": [
    "# Overview of tasks in this cell (each can be done in one line of code):\n",
    "# 1. Convert the 'date' column to a datetime object\n",
    "# 2. Convert the 'time' column to a datetime.dt.time object using `format='%H:%M:%S'` to specify the format.\n",
    "#   - Include .dt.time to get the time component of the datetime object (e.g. 12:30:00)\n",
    "# 3. Create a new column called 'datetime' that combines the 'date' and 'time' columns (as strings - use the `.astype()` method)\n",
    "\n",
    "merged_data['date'] = pd.to_datetime(merged_data['date'])\n",
    "merged_data['time'] = pd.to_datetime(merged_data['time'], format='%H:%M:%S').dt.time\n",
    "merged_data['datetime'] = merged_data['date'].astype(str) + ' ' +merged_data['time'].astype(str)\n",
    "# print(merged_data[['date', 'time', 'datetime']].head())\n",
    "\n",
    "\n",
    "merged_data"
   ]
  },
  {
   "cell_type": "markdown",
   "metadata": {},
   "source": [
    "Now let's make another column called `weekday`, again for some more analysis down the line.\n",
    "\n",
    "Hint:\n",
    "\n",
    "<details>\n",
    "\n",
    "- `.dt` for a Series gives us a datetime object that we can reformat.\n",
    "- `.strftime()` will be your reformatting friend."
   ]
  },
  {
   "cell_type": "code",
   "execution_count": null,
   "metadata": {
    "nbgrader": {
     "grade": false,
     "grade_id": "5-B",
     "locked": false,
     "schema_version": 3,
     "solution": true,
     "task": false
    }
   },
   "outputs": [
    {
     "data": {
      "text/html": [
       "<div>\n",
       "<style scoped>\n",
       "    .dataframe tbody tr th:only-of-type {\n",
       "        vertical-align: middle;\n",
       "    }\n",
       "\n",
       "    .dataframe tbody tr th {\n",
       "        vertical-align: top;\n",
       "    }\n",
       "\n",
       "    .dataframe thead th {\n",
       "        text-align: right;\n",
       "    }\n",
       "</style>\n",
       "<table border=\"1\" class=\"dataframe\">\n",
       "  <thead>\n",
       "    <tr style=\"text-align: right;\">\n",
       "      <th></th>\n",
       "      <th>order_id</th>\n",
       "      <th>date</th>\n",
       "      <th>time</th>\n",
       "      <th>order_details_id</th>\n",
       "      <th>pizza_id</th>\n",
       "      <th>quantity</th>\n",
       "      <th>pizza_type_id</th>\n",
       "      <th>size</th>\n",
       "      <th>price</th>\n",
       "      <th>name</th>\n",
       "      <th>category</th>\n",
       "      <th>ingredients</th>\n",
       "      <th>datetime</th>\n",
       "      <th>weekday</th>\n",
       "    </tr>\n",
       "  </thead>\n",
       "  <tbody>\n",
       "    <tr>\n",
       "      <th>0</th>\n",
       "      <td>1</td>\n",
       "      <td>2015-01-01</td>\n",
       "      <td>11:38:36</td>\n",
       "      <td>1</td>\n",
       "      <td>hawaiian_m</td>\n",
       "      <td>1</td>\n",
       "      <td>hawaiian</td>\n",
       "      <td>M</td>\n",
       "      <td>13.25</td>\n",
       "      <td>The Hawaiian Pizza</td>\n",
       "      <td>Classic</td>\n",
       "      <td>Sliced Ham, Pineapple, Mozzarella Cheese</td>\n",
       "      <td>2015-01-01 11:38:36</td>\n",
       "      <td>Thursday</td>\n",
       "    </tr>\n",
       "    <tr>\n",
       "      <th>1</th>\n",
       "      <td>77</td>\n",
       "      <td>2015-01-02</td>\n",
       "      <td>12:22:46</td>\n",
       "      <td>179</td>\n",
       "      <td>hawaiian_m</td>\n",
       "      <td>1</td>\n",
       "      <td>hawaiian</td>\n",
       "      <td>M</td>\n",
       "      <td>13.25</td>\n",
       "      <td>The Hawaiian Pizza</td>\n",
       "      <td>Classic</td>\n",
       "      <td>Sliced Ham, Pineapple, Mozzarella Cheese</td>\n",
       "      <td>2015-01-02 12:22:46</td>\n",
       "      <td>Friday</td>\n",
       "    </tr>\n",
       "    <tr>\n",
       "      <th>2</th>\n",
       "      <td>146</td>\n",
       "      <td>2015-01-03</td>\n",
       "      <td>14:22:10</td>\n",
       "      <td>357</td>\n",
       "      <td>hawaiian_m</td>\n",
       "      <td>1</td>\n",
       "      <td>hawaiian</td>\n",
       "      <td>M</td>\n",
       "      <td>13.25</td>\n",
       "      <td>The Hawaiian Pizza</td>\n",
       "      <td>Classic</td>\n",
       "      <td>Sliced Ham, Pineapple, Mozzarella Cheese</td>\n",
       "      <td>2015-01-03 14:22:10</td>\n",
       "      <td>Saturday</td>\n",
       "    </tr>\n",
       "    <tr>\n",
       "      <th>3</th>\n",
       "      <td>163</td>\n",
       "      <td>2015-01-03</td>\n",
       "      <td>16:54:54</td>\n",
       "      <td>389</td>\n",
       "      <td>hawaiian_m</td>\n",
       "      <td>1</td>\n",
       "      <td>hawaiian</td>\n",
       "      <td>M</td>\n",
       "      <td>13.25</td>\n",
       "      <td>The Hawaiian Pizza</td>\n",
       "      <td>Classic</td>\n",
       "      <td>Sliced Ham, Pineapple, Mozzarella Cheese</td>\n",
       "      <td>2015-01-03 16:54:54</td>\n",
       "      <td>Saturday</td>\n",
       "    </tr>\n",
       "    <tr>\n",
       "      <th>4</th>\n",
       "      <td>247</td>\n",
       "      <td>2015-01-04</td>\n",
       "      <td>20:55:29</td>\n",
       "      <td>568</td>\n",
       "      <td>hawaiian_m</td>\n",
       "      <td>1</td>\n",
       "      <td>hawaiian</td>\n",
       "      <td>M</td>\n",
       "      <td>13.25</td>\n",
       "      <td>The Hawaiian Pizza</td>\n",
       "      <td>Classic</td>\n",
       "      <td>Sliced Ham, Pineapple, Mozzarella Cheese</td>\n",
       "      <td>2015-01-04 20:55:29</td>\n",
       "      <td>Sunday</td>\n",
       "    </tr>\n",
       "    <tr>\n",
       "      <th>...</th>\n",
       "      <td>...</td>\n",
       "      <td>...</td>\n",
       "      <td>...</td>\n",
       "      <td>...</td>\n",
       "      <td>...</td>\n",
       "      <td>...</td>\n",
       "      <td>...</td>\n",
       "      <td>...</td>\n",
       "      <td>...</td>\n",
       "      <td>...</td>\n",
       "      <td>...</td>\n",
       "      <td>...</td>\n",
       "      <td>...</td>\n",
       "      <td>...</td>\n",
       "    </tr>\n",
       "    <tr>\n",
       "      <th>48615</th>\n",
       "      <td>21167</td>\n",
       "      <td>2015-12-27</td>\n",
       "      <td>17:39:57</td>\n",
       "      <td>48176</td>\n",
       "      <td>brie_carre_s</td>\n",
       "      <td>1</td>\n",
       "      <td>brie_carre</td>\n",
       "      <td>S</td>\n",
       "      <td>23.65</td>\n",
       "      <td>The Brie Carre Pizza</td>\n",
       "      <td>Supreme</td>\n",
       "      <td>Brie Carre Cheese, Prosciutto, Caramelized Oni...</td>\n",
       "      <td>2015-12-27 17:39:57</td>\n",
       "      <td>Sunday</td>\n",
       "    </tr>\n",
       "    <tr>\n",
       "      <th>48616</th>\n",
       "      <td>21198</td>\n",
       "      <td>2015-12-28</td>\n",
       "      <td>15:39:02</td>\n",
       "      <td>48244</td>\n",
       "      <td>brie_carre_s</td>\n",
       "      <td>1</td>\n",
       "      <td>brie_carre</td>\n",
       "      <td>S</td>\n",
       "      <td>23.65</td>\n",
       "      <td>The Brie Carre Pizza</td>\n",
       "      <td>Supreme</td>\n",
       "      <td>Brie Carre Cheese, Prosciutto, Caramelized Oni...</td>\n",
       "      <td>2015-12-28 15:39:02</td>\n",
       "      <td>Monday</td>\n",
       "    </tr>\n",
       "    <tr>\n",
       "      <th>48617</th>\n",
       "      <td>21225</td>\n",
       "      <td>2015-12-29</td>\n",
       "      <td>13:20:17</td>\n",
       "      <td>48311</td>\n",
       "      <td>brie_carre_s</td>\n",
       "      <td>1</td>\n",
       "      <td>brie_carre</td>\n",
       "      <td>S</td>\n",
       "      <td>23.65</td>\n",
       "      <td>The Brie Carre Pizza</td>\n",
       "      <td>Supreme</td>\n",
       "      <td>Brie Carre Cheese, Prosciutto, Caramelized Oni...</td>\n",
       "      <td>2015-12-29 13:20:17</td>\n",
       "      <td>Tuesday</td>\n",
       "    </tr>\n",
       "    <tr>\n",
       "      <th>48618</th>\n",
       "      <td>21282</td>\n",
       "      <td>2015-12-31</td>\n",
       "      <td>12:09:59</td>\n",
       "      <td>48456</td>\n",
       "      <td>brie_carre_s</td>\n",
       "      <td>1</td>\n",
       "      <td>brie_carre</td>\n",
       "      <td>S</td>\n",
       "      <td>23.65</td>\n",
       "      <td>The Brie Carre Pizza</td>\n",
       "      <td>Supreme</td>\n",
       "      <td>Brie Carre Cheese, Prosciutto, Caramelized Oni...</td>\n",
       "      <td>2015-12-31 12:09:59</td>\n",
       "      <td>Thursday</td>\n",
       "    </tr>\n",
       "    <tr>\n",
       "      <th>48619</th>\n",
       "      <td>21308</td>\n",
       "      <td>2015-12-31</td>\n",
       "      <td>16:44:35</td>\n",
       "      <td>48527</td>\n",
       "      <td>brie_carre_s</td>\n",
       "      <td>1</td>\n",
       "      <td>brie_carre</td>\n",
       "      <td>S</td>\n",
       "      <td>23.65</td>\n",
       "      <td>The Brie Carre Pizza</td>\n",
       "      <td>Supreme</td>\n",
       "      <td>Brie Carre Cheese, Prosciutto, Caramelized Oni...</td>\n",
       "      <td>2015-12-31 16:44:35</td>\n",
       "      <td>Thursday</td>\n",
       "    </tr>\n",
       "  </tbody>\n",
       "</table>\n",
       "<p>48620 rows × 14 columns</p>\n",
       "</div>"
      ],
      "text/plain": [
       "       order_id       date      time  order_details_id      pizza_id  \\\n",
       "0             1 2015-01-01  11:38:36                 1    hawaiian_m   \n",
       "1            77 2015-01-02  12:22:46               179    hawaiian_m   \n",
       "2           146 2015-01-03  14:22:10               357    hawaiian_m   \n",
       "3           163 2015-01-03  16:54:54               389    hawaiian_m   \n",
       "4           247 2015-01-04  20:55:29               568    hawaiian_m   \n",
       "...         ...        ...       ...               ...           ...   \n",
       "48615     21167 2015-12-27  17:39:57             48176  brie_carre_s   \n",
       "48616     21198 2015-12-28  15:39:02             48244  brie_carre_s   \n",
       "48617     21225 2015-12-29  13:20:17             48311  brie_carre_s   \n",
       "48618     21282 2015-12-31  12:09:59             48456  brie_carre_s   \n",
       "48619     21308 2015-12-31  16:44:35             48527  brie_carre_s   \n",
       "\n",
       "       quantity pizza_type_id size  price                  name category  \\\n",
       "0             1      hawaiian    M  13.25    The Hawaiian Pizza  Classic   \n",
       "1             1      hawaiian    M  13.25    The Hawaiian Pizza  Classic   \n",
       "2             1      hawaiian    M  13.25    The Hawaiian Pizza  Classic   \n",
       "3             1      hawaiian    M  13.25    The Hawaiian Pizza  Classic   \n",
       "4             1      hawaiian    M  13.25    The Hawaiian Pizza  Classic   \n",
       "...         ...           ...  ...    ...                   ...      ...   \n",
       "48615         1    brie_carre    S  23.65  The Brie Carre Pizza  Supreme   \n",
       "48616         1    brie_carre    S  23.65  The Brie Carre Pizza  Supreme   \n",
       "48617         1    brie_carre    S  23.65  The Brie Carre Pizza  Supreme   \n",
       "48618         1    brie_carre    S  23.65  The Brie Carre Pizza  Supreme   \n",
       "48619         1    brie_carre    S  23.65  The Brie Carre Pizza  Supreme   \n",
       "\n",
       "                                             ingredients             datetime  \\\n",
       "0               Sliced Ham, Pineapple, Mozzarella Cheese  2015-01-01 11:38:36   \n",
       "1               Sliced Ham, Pineapple, Mozzarella Cheese  2015-01-02 12:22:46   \n",
       "2               Sliced Ham, Pineapple, Mozzarella Cheese  2015-01-03 14:22:10   \n",
       "3               Sliced Ham, Pineapple, Mozzarella Cheese  2015-01-03 16:54:54   \n",
       "4               Sliced Ham, Pineapple, Mozzarella Cheese  2015-01-04 20:55:29   \n",
       "...                                                  ...                  ...   \n",
       "48615  Brie Carre Cheese, Prosciutto, Caramelized Oni...  2015-12-27 17:39:57   \n",
       "48616  Brie Carre Cheese, Prosciutto, Caramelized Oni...  2015-12-28 15:39:02   \n",
       "48617  Brie Carre Cheese, Prosciutto, Caramelized Oni...  2015-12-29 13:20:17   \n",
       "48618  Brie Carre Cheese, Prosciutto, Caramelized Oni...  2015-12-31 12:09:59   \n",
       "48619  Brie Carre Cheese, Prosciutto, Caramelized Oni...  2015-12-31 16:44:35   \n",
       "\n",
       "        weekday  \n",
       "0      Thursday  \n",
       "1        Friday  \n",
       "2      Saturday  \n",
       "3      Saturday  \n",
       "4        Sunday  \n",
       "...         ...  \n",
       "48615    Sunday  \n",
       "48616    Monday  \n",
       "48617   Tuesday  \n",
       "48618  Thursday  \n",
       "48619  Thursday  \n",
       "\n",
       "[48620 rows x 14 columns]"
      ]
     },
     "execution_count": 23,
     "metadata": {},
     "output_type": "execute_result"
    }
   ],
   "source": [
    "merged_data['weekday'] = merged_data['date'].dt.strftime('%A')\n",
    "\n",
    "merged_data"
   ]
  },
  {
   "cell_type": "code",
   "execution_count": 14,
   "metadata": {
    "nbgrader": {
     "grade": true,
     "grade_id": "cell-9c249f3fb498fbe9",
     "locked": true,
     "points": 2,
     "schema_version": 3,
     "solution": false,
     "task": false
    }
   },
   "outputs": [
    {
     "name": "stdout",
     "output_type": "stream",
     "text": [
      "Success!\n"
     ]
    }
   ],
   "source": [
    "assert merged_data.shape == (48620, 14)\n",
    "print('Success!')"
   ]
  },
  {
   "cell_type": "markdown",
   "metadata": {},
   "source": [
    "### Task 6: Checking for Types and Nulls"
   ]
  },
  {
   "cell_type": "markdown",
   "metadata": {},
   "source": [
    "Great! We now have all of the columns we'll need to find some insights from this dataframe. Now let's finish off our exploratory analysis with these two checks:\n",
    "- We'll check the datatype of each of the columns in our dataframe with `.info()`\n",
    "- We'll check for nulls in each column with `.isnull()`\n",
    "\n",
    "Hint:\n",
    "\n",
    "<details>\n",
    "\n",
    "There are a few different ways to check for null values, but if you're looking for the easiest way to see if there are any (and how many), you can just sum the result of `.isnull()` on `merged_data`."
   ]
  },
  {
   "cell_type": "code",
   "execution_count": null,
   "metadata": {
    "nbgrader": {
     "grade": false,
     "grade_id": "6-1",
     "locked": false,
     "schema_version": 3,
     "solution": true,
     "task": false
    }
   },
   "outputs": [
    {
     "name": "stdout",
     "output_type": "stream",
     "text": [
      "<class 'pandas.core.frame.DataFrame'>\n",
      "RangeIndex: 48620 entries, 0 to 48619\n",
      "Data columns (total 14 columns):\n",
      " #   Column            Non-Null Count  Dtype         \n",
      "---  ------            --------------  -----         \n",
      " 0   order_id          48620 non-null  int64         \n",
      " 1   date              48620 non-null  datetime64[ns]\n",
      " 2   time              48620 non-null  object        \n",
      " 3   order_details_id  48620 non-null  int64         \n",
      " 4   pizza_id          48620 non-null  object        \n",
      " 5   quantity          48620 non-null  int64         \n",
      " 6   pizza_type_id     48620 non-null  object        \n",
      " 7   size              48620 non-null  object        \n",
      " 8   price             48620 non-null  float64       \n",
      " 9   name              48620 non-null  object        \n",
      " 10  category          48620 non-null  object        \n",
      " 11  ingredients       48620 non-null  object        \n",
      " 12  datetime          48620 non-null  object        \n",
      " 13  weekday           48620 non-null  object        \n",
      "dtypes: datetime64[ns](1), float64(1), int64(3), object(9)\n",
      "memory usage: 5.2+ MB\n"
     ]
    }
   ],
   "source": [
    "merged_data.info()"
   ]
  },
  {
   "cell_type": "code",
   "execution_count": null,
   "metadata": {
    "nbgrader": {
     "grade": false,
     "grade_id": "6-2",
     "locked": false,
     "schema_version": 3,
     "solution": true,
     "task": false
    }
   },
   "outputs": [
    {
     "name": "stdout",
     "output_type": "stream",
     "text": [
      "order_id            0\n",
      "date                0\n",
      "time                0\n",
      "order_details_id    0\n",
      "pizza_id            0\n",
      "quantity            0\n",
      "pizza_type_id       0\n",
      "size                0\n",
      "price               0\n",
      "name                0\n",
      "category            0\n",
      "ingredients         0\n",
      "datetime            0\n",
      "weekday             0\n",
      "dtype: int64\n"
     ]
    }
   ],
   "source": [
    "null_counts = merged_data.isnull().sum()\n",
    "print(null_counts)\n"
   ]
  },
  {
   "cell_type": "markdown",
   "metadata": {},
   "source": [
    "#### Question - How many Dtypes do we have in this dataframe? Any nulls?"
   ]
  },
  {
   "cell_type": "markdown",
   "metadata": {
    "nbgrader": {
     "grade": true,
     "grade_id": "6-A",
     "locked": false,
     "points": 2,
     "schema_version": 3,
     "solution": true,
     "task": false
    }
   },
   "source": [
    "<p>dtypes: datetime64[ns](1), float64(1), int64(3), object(9)</p>\n",
    "<p>No null values</p>"
   ]
  },
  {
   "cell_type": "markdown",
   "metadata": {},
   "source": [
    "# Describing the Data"
   ]
  },
  {
   "cell_type": "markdown",
   "metadata": {},
   "source": [
    "### Task 7: Generating Descriptive Statistics"
   ]
  },
  {
   "cell_type": "markdown",
   "metadata": {},
   "source": [
    "We now have a nice and clean dataframe that we can use to make some predictions! Before we dive too deep into any particular facet, let's take a quick look at the overall descriptive statistics of the dataset. We'll want to use the `.describe()` method - this method defaults to analyzing only the numeric dtypes in the dataframe. This is fine for now."
   ]
  },
  {
   "cell_type": "code",
   "execution_count": null,
   "metadata": {
    "nbgrader": {
     "grade": false,
     "grade_id": "7-1",
     "locked": false,
     "schema_version": 3,
     "solution": true,
     "task": false
    }
   },
   "outputs": [
    {
     "name": "stdout",
     "output_type": "stream",
     "text": [
      "            order_id                           date  order_details_id  \\\n",
      "count   48620.000000                          48620      48620.000000   \n",
      "unique           NaN                            NaN               NaN   \n",
      "top              NaN                            NaN               NaN   \n",
      "freq             NaN                            NaN               NaN   \n",
      "mean    10701.479761  2015-06-29 11:03:43.611682304      24310.500000   \n",
      "min         1.000000            2015-01-01 00:00:00          1.000000   \n",
      "25%      5337.000000            2015-03-31 00:00:00      12155.750000   \n",
      "50%     10682.500000            2015-06-28 00:00:00      24310.500000   \n",
      "75%     16100.000000            2015-09-28 00:00:00      36465.250000   \n",
      "max     21350.000000            2015-12-31 00:00:00      48620.000000   \n",
      "std      6180.119770                            NaN      14035.529381   \n",
      "\n",
      "            quantity         price             datetime  \n",
      "count   48620.000000  48620.000000                48620  \n",
      "unique           NaN           NaN                21350  \n",
      "top              NaN           NaN  2015-11-18 12:25:12  \n",
      "freq             NaN           NaN                   21  \n",
      "mean        1.019622     16.494132                  NaN  \n",
      "min         1.000000      9.750000                  NaN  \n",
      "25%         1.000000     12.750000                  NaN  \n",
      "50%         1.000000     16.500000                  NaN  \n",
      "75%         1.000000     20.250000                  NaN  \n",
      "max         4.000000     35.950000                  NaN  \n",
      "std         0.143077      3.621789                  NaN  \n"
     ]
    }
   ],
   "source": [
    "descriptive_stats = merged_data[['order_id', 'date', 'order_details_id', 'quantity', 'price', 'datetime']].describe(include='all')\n",
    "print(descriptive_stats)\n"
   ]
  },
  {
   "cell_type": "markdown",
   "metadata": {},
   "source": [
    "Looking good! Now let's use the same method but add in the argument `include= \"???\"` - with the `\"???\"` being a string of a particular dtype. You should have all of the info at your disposal to do this without any further help. If you'd like more info on this method, here's the [documentation](https://pandas.pydata.org/docs/reference/api/pandas.DataFrame.describe.html)."
   ]
  },
  {
   "cell_type": "code",
   "execution_count": null,
   "metadata": {
    "nbgrader": {
     "grade": false,
     "grade_id": "7-2",
     "locked": false,
     "schema_version": 3,
     "solution": true,
     "task": false
    }
   },
   "outputs": [
    {
     "name": "stdout",
     "output_type": "stream",
     "text": [
      "            time    pizza_id pizza_type_id   size                      name  \\\n",
      "count      48620       48620         48620  48620                     48620   \n",
      "unique     16382          91            32      5                        32   \n",
      "top     12:32:00  big_meat_s   classic_dlx      L  The Classic Deluxe Pizza   \n",
      "freq          26        1811          2416  18526                      2416   \n",
      "\n",
      "       category                                        ingredients  \\\n",
      "count     48620                                              48620   \n",
      "unique        4                                                 32   \n",
      "top     Classic  Pepperoni, Mushrooms, Red Onions, Red Peppers,...   \n",
      "freq      14579                                               2416   \n",
      "\n",
      "                   datetime weekday  \n",
      "count                 48620   48620  \n",
      "unique                21350       7  \n",
      "top     2015-11-18 12:25:12  Friday  \n",
      "freq                     21    8106  \n"
     ]
    }
   ],
   "source": [
    "descriptive_stats_categorical = merged_data.describe(include='object')\n",
    "print(descriptive_stats_categorical)\n"
   ]
  },
  {
   "cell_type": "markdown",
   "metadata": {},
   "source": [
    "It looks like you're all set to answer the manager's list of questions! Let's get started. For each of the below tasks, print your answer and paste it into the answer cell for that particular task."
   ]
  },
  {
   "cell_type": "markdown",
   "metadata": {},
   "source": [
    "### Task 8: Orders by Weekday"
   ]
  },
  {
   "cell_type": "markdown",
   "metadata": {},
   "source": [
    "The boss wants to see the total unique orders for each individual day of the week. Print out the result of this query.\n",
    "\n",
    "BONUS (1 point): The boss would be extra happy if you ordered the weeks Monday - Friday in your response."
   ]
  },
  {
   "cell_type": "code",
   "execution_count": null,
   "metadata": {
    "nbgrader": {
     "grade": false,
     "grade_id": "8-1",
     "locked": false,
     "schema_version": 3,
     "solution": true,
     "task": false
    }
   },
   "outputs": [
    {
     "name": "stdout",
     "output_type": "stream",
     "text": [
      "Orders per Weekday:\n",
      "Monday: 2794 orders\n",
      "Tuesday: 2973 orders\n",
      "Wednesday: 3024 orders\n",
      "Thursday: 3239 orders\n",
      "Friday: 3538 orders\n",
      "Saturday: 3158 orders\n",
      "Sunday: 2624 orders\n"
     ]
    }
   ],
   "source": [
    "orders_per_weekday = merged_data.groupby('weekday')['order_id'].nunique()\n",
    "ordered_days = ['Monday', 'Tuesday', 'Wednesday', 'Thursday', 'Friday', 'Saturday', 'Sunday']\n",
    "orders_per_weekday = orders_per_weekday.reindex(ordered_days)\n",
    "print(\"Orders per Weekday:\")\n",
    "for day, count in orders_per_weekday.items():\n",
    "    print(f\"{day}: {count} orders\")\n",
    "\n"
   ]
  },
  {
   "cell_type": "markdown",
   "metadata": {
    "nbgrader": {
     "grade": true,
     "grade_id": "8-A",
     "locked": false,
     "points": 2,
     "schema_version": 3,
     "solution": true,
     "task": false
    }
   },
   "source": [
    "ANSWER HERE"
   ]
  },
  {
   "cell_type": "markdown",
   "metadata": {},
   "source": [
    "### Task 9: Orders by Hour"
   ]
  },
  {
   "cell_type": "markdown",
   "metadata": {},
   "source": [
    "The boss would also like total unique orders by the hour. Again (and for all subsequent problems), print out your results."
   ]
  },
  {
   "cell_type": "code",
   "execution_count": null,
   "metadata": {
    "nbgrader": {
     "grade": false,
     "grade_id": "9-1",
     "locked": false,
     "schema_version": 3,
     "solution": true,
     "task": false
    }
   },
   "outputs": [
    {
     "name": "stdout",
     "output_type": "stream",
     "text": [
      "Hour 9: 1 orders\n",
      "Hour 10: 8 orders\n",
      "Hour 11: 1231 orders\n",
      "Hour 12: 2520 orders\n",
      "Hour 13: 2455 orders\n",
      "Hour 14: 1472 orders\n",
      "Hour 15: 1468 orders\n",
      "Hour 16: 1920 orders\n",
      "Hour 17: 2336 orders\n",
      "Hour 18: 2399 orders\n",
      "Hour 19: 2009 orders\n",
      "Hour 20: 1642 orders\n",
      "Hour 21: 1198 orders\n",
      "Hour 22: 663 orders\n",
      "Hour 23: 28 orders\n"
     ]
    }
   ],
   "source": [
    "merged_data['datetime'] = pd.to_datetime(merged_data['datetime'])\n",
    "merged_data['hour'] = merged_data['datetime'].dt.hour\n",
    "orders_per_hour = merged_data.groupby('hour')['order_id'].nunique()\n",
    "\n",
    "for hour, count in orders_per_hour.items():\n",
    "    print(f\"Hour {hour}: {count} orders\")\n",
    "\n"
   ]
  },
  {
   "cell_type": "markdown",
   "metadata": {
    "nbgrader": {
     "grade": true,
     "grade_id": "9-A",
     "locked": false,
     "points": 1,
     "schema_version": 3,
     "solution": true,
     "task": false
    }
   },
   "source": [
    "ANSWER HERE"
   ]
  },
  {
   "cell_type": "markdown",
   "metadata": {},
   "source": [
    "### Task 10: Customers Per Day"
   ]
  },
  {
   "cell_type": "markdown",
   "metadata": {},
   "source": [
    "The boss is curious as to what was the average number of customers each day."
   ]
  },
  {
   "cell_type": "code",
   "execution_count": null,
   "metadata": {
    "nbgrader": {
     "grade": false,
     "grade_id": "10-1",
     "locked": false,
     "schema_version": 3,
     "solution": true,
     "task": false
    }
   },
   "outputs": [
    {
     "name": "stdout",
     "output_type": "stream",
     "text": [
      "Number of orders we are expecting per day:\n",
      "59.63687150837989\n"
     ]
    }
   ],
   "source": [
    "orders_per_day = merged_data.groupby(merged_data['date'].dt.date)['order_id'].nunique()\n",
    "average_orders_per_day = orders_per_day.mean()\n",
    "\n",
    "print(\"Number of orders we are expecting per day:\")\n",
    "print(average_orders_per_day)\n",
    "\n"
   ]
  },
  {
   "cell_type": "markdown",
   "metadata": {
    "nbgrader": {
     "grade": true,
     "grade_id": "10-A",
     "locked": false,
     "points": 1,
     "schema_version": 3,
     "solution": true,
     "task": false
    }
   },
   "source": [
    "ANSWER HERE"
   ]
  },
  {
   "cell_type": "markdown",
   "metadata": {},
   "source": [
    "### Task 11: Top and Bottom 5 Pizzas"
   ]
  },
  {
   "cell_type": "markdown",
   "metadata": {},
   "source": [
    "The boss is curious about which 5 pizzas have sold the most and which 5 have sold the least."
   ]
  },
  {
   "cell_type": "code",
   "execution_count": null,
   "metadata": {
    "nbgrader": {
     "grade": false,
     "grade_id": "11-1",
     "locked": false,
     "schema_version": 3,
     "solution": true,
     "task": false
    }
   },
   "outputs": [
    {
     "name": "stdout",
     "output_type": "stream",
     "text": [
      "Top 5 pizzas:\n",
      "pizza_type_id\n",
      "thai_ckn       43434.25\n",
      "bbq_ckn        42768.00\n",
      "cali_ckn       41409.50\n",
      "classic_dlx    38180.50\n",
      "spicy_ital     34831.25\n",
      "Name: total_sales, dtype: float64\n",
      "\n",
      "Bottom 5 pizzas:\n",
      "pizza_type_id\n",
      "brie_carre      11588.50\n",
      "green_garden    13955.75\n",
      "spinach_supr    15277.75\n",
      "mediterraneo    15360.50\n",
      "spin_pesto      15596.00\n",
      "Name: total_sales, dtype: float64\n"
     ]
    }
   ],
   "source": [
    "merged_data['total_sales'] = merged_data['quantity'] * merged_data['price']\n",
    "\n",
    "total_sales_per_pizza = merged_data.groupby('pizza_type_id')['total_sales'].sum()\n",
    "\n",
    "top_5_pizzas = total_sales_per_pizza.sort_values(ascending=False).head(5)\n",
    "\n",
    "bottom_5_pizzas = total_sales_per_pizza.sort_values(ascending=True).head(5)\n",
    "\n",
    "# Printing the results\n",
    "print(\"Top 5 pizzas:\")\n",
    "print(top_5_pizzas)\n",
    "print(\"\\nBottom 5 pizzas:\")\n",
    "print(bottom_5_pizzas)\n"
   ]
  },
  {
   "cell_type": "markdown",
   "metadata": {
    "nbgrader": {
     "grade": true,
     "grade_id": "11-A",
     "locked": false,
     "points": 1,
     "schema_version": 3,
     "solution": true,
     "task": false
    }
   },
   "source": [
    "ANSWER HERE"
   ]
  },
  {
   "cell_type": "markdown",
   "metadata": {},
   "source": [
    "### Task 12: Total Revenue"
   ]
  },
  {
   "cell_type": "markdown",
   "metadata": {},
   "source": [
    "The boss also wants a number on the total price of all pizzas sold."
   ]
  },
  {
   "cell_type": "code",
   "execution_count": null,
   "metadata": {
    "nbgrader": {
     "grade": false,
     "grade_id": "12-1",
     "locked": false,
     "schema_version": 3,
     "solution": true,
     "task": false
    }
   },
   "outputs": [
    {
     "name": "stdout",
     "output_type": "stream",
     "text": [
      "817860.05\n"
     ]
    }
   ],
   "source": [
    "total_revenue = (merged_data['quantity'] * merged_data['price']).sum()\n",
    "print(total_revenue)\n"
   ]
  },
  {
   "cell_type": "markdown",
   "metadata": {
    "nbgrader": {
     "grade": true,
     "grade_id": "12-A",
     "locked": false,
     "points": 1,
     "schema_version": 3,
     "solution": true,
     "task": false
    }
   },
   "source": [
    "ANSWER HERE"
   ]
  },
  {
   "cell_type": "markdown",
   "metadata": {},
   "source": [
    "### Task 13: Most and Least Popular Days"
   ]
  },
  {
   "cell_type": "markdown",
   "metadata": {},
   "source": [
    "What were our 5 highest and 5 lowest days in terms of pizzas sold?"
   ]
  },
  {
   "cell_type": "code",
   "execution_count": null,
   "metadata": {
    "nbgrader": {
     "grade": false,
     "grade_id": "13-1",
     "locked": false,
     "schema_version": 3,
     "solution": true,
     "task": false
    }
   },
   "outputs": [
    {
     "name": "stdout",
     "output_type": "stream",
     "text": [
      "date\n",
      "2015-11-26    266\n",
      "2015-11-27    264\n",
      "2015-10-15    262\n",
      "2015-07-04    234\n",
      "2015-07-03    213\n",
      "Name: quantity, dtype: int64\n",
      "date\n",
      "2015-03-22    77\n",
      "2015-12-29    80\n",
      "2015-12-30    82\n",
      "2015-11-22    84\n",
      "2015-12-27    89\n",
      "Name: quantity, dtype: int64\n"
     ]
    }
   ],
   "source": [
    "pizzas_sold_per_day = merged_data.groupby('date')['quantity'].sum()\n",
    "\n",
    "most_popular_days = pizzas_sold_per_day.sort_values(ascending=False).head(5)\n",
    "\n",
    "least_popular_days = pizzas_sold_per_day.sort_values(ascending=True).head(5)\n",
    "\n",
    "print(most_popular_days)\n",
    "\n",
    "print(least_popular_days)\n"
   ]
  },
  {
   "cell_type": "markdown",
   "metadata": {
    "nbgrader": {
     "grade": true,
     "grade_id": "13-A",
     "locked": false,
     "points": 1,
     "schema_version": 3,
     "solution": true,
     "task": false
    }
   },
   "source": [
    "ANSWER HERE"
   ]
  },
  {
   "cell_type": "markdown",
   "metadata": {},
   "source": [
    "### Task 14: Month by Popularity"
   ]
  },
  {
   "cell_type": "markdown",
   "metadata": {},
   "source": [
    "For the final question, the boss is asking for the count of pizzas sold by month and sorted in descending order."
   ]
  },
  {
   "cell_type": "code",
   "execution_count": null,
   "metadata": {
    "nbgrader": {
     "grade": false,
     "grade_id": "14-1",
     "locked": false,
     "schema_version": 3,
     "solution": true,
     "task": false
    }
   },
   "outputs": [
    {
     "name": "stdout",
     "output_type": "stream",
     "text": [
      "month\n",
      "7     4392\n",
      "5     4328\n",
      "11    4266\n",
      "3     4261\n",
      "1     4232\n",
      "8     4168\n",
      "4     4151\n",
      "6     4107\n",
      "2     3961\n",
      "12    3935\n",
      "9     3890\n",
      "10    3883\n",
      "Name: quantity, dtype: int64\n"
     ]
    }
   ],
   "source": [
    "merged_data['month'] = merged_data['datetime'].dt.month\n",
    "\n",
    "pizzas_sold_per_month = merged_data.groupby('month')['quantity'].sum()\n",
    "\n",
    "sorted_pizzas_sold_per_month = pizzas_sold_per_month.sort_values(ascending=False)\n",
    "\n",
    "print(sorted_pizzas_sold_per_month)\n",
    "\n"
   ]
  },
  {
   "cell_type": "markdown",
   "metadata": {
    "nbgrader": {
     "grade": true,
     "grade_id": "14-A",
     "locked": false,
     "points": 1,
     "schema_version": 3,
     "solution": true,
     "task": false
    }
   },
   "source": [
    "ANSWER HERE"
   ]
  },
  {
   "cell_type": "markdown",
   "metadata": {},
   "source": [
    "### Task 15: Analyst Recommendations (BONUS - up to 2 points)"
   ]
  },
  {
   "cell_type": "markdown",
   "metadata": {},
   "source": [
    "Congrats, you've finished all the tasks set out by the manager! In the cell below feel free to add any advice you may have for Pandas Pizzeria for the coming fiscal year; Any advice that's deemed useful will be add a bonus point to your overall grade, up to 2 points."
   ]
  },
  {
   "cell_type": "markdown",
   "metadata": {
    "nbgrader": {
     "grade": true,
     "grade_id": "15-B",
     "locked": false,
     "points": 0,
     "schema_version": 3,
     "solution": true,
     "task": false
    }
   },
   "source": [
    "1. Promote Popular Pizzas\n",
    "2. Analyze Peak Times\n",
    "3. Day-of-the-Week Promotions\n",
    "4. Monthly Specials\n",
    "5. Menu Diversification\n",
    "6. Track Promotions Effectiveness\n",
    "7. Leverage Data Analytics\n",
    "\n",
    "\n",
    "\n"
   ]
  }
 ],
 "metadata": {
  "kernelspec": {
   "display_name": "Python 3",
   "language": "python",
   "name": "python3"
  },
  "language_info": {
   "codemirror_mode": {
    "name": "ipython",
    "version": 3
   },
   "file_extension": ".py",
   "mimetype": "text/x-python",
   "name": "python",
   "nbconvert_exporter": "python",
   "pygments_lexer": "ipython3",
   "version": "3.11.4"
  }
 },
 "nbformat": 4,
 "nbformat_minor": 4
}
